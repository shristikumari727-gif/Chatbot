{
 "cells": [
  {
   "cell_type": "code",
   "execution_count": 1,
   "id": "27e9978c-1cac-4108-b119-e381849b5b1c",
   "metadata": {},
   "outputs": [
    {
     "name": "stdin",
     "output_type": "stream",
     "text": [
      "You:  hi\n"
     ]
    },
    {
     "name": "stdout",
     "output_type": "stream",
     "text": [
      "Chatbot: Hello!\n"
     ]
    },
    {
     "name": "stdin",
     "output_type": "stream",
     "text": [
      "You:  hello\n"
     ]
    },
    {
     "name": "stdout",
     "output_type": "stream",
     "text": [
      "Chatbot: Hi\n"
     ]
    },
    {
     "name": "stdin",
     "output_type": "stream",
     "text": [
      "You:  how are you\n"
     ]
    },
    {
     "name": "stdout",
     "output_type": "stream",
     "text": [
      "Chatbot: I'm doing well, thank you!\n"
     ]
    },
    {
     "name": "stdin",
     "output_type": "stream",
     "text": [
      "You:  bye\n"
     ]
    },
    {
     "name": "stdout",
     "output_type": "stream",
     "text": [
      "Chatbot: Goodbye!\n"
     ]
    }
   ],
   "source": [
    "def simple_chatbot(user_input):\n",
    "  \n",
    "  if user_input.lower() == \"hi\":\n",
    "    return \"Hello!\"\n",
    "  if user_input.lower() == \"hello\":\n",
    "    return \"Hi\"\n",
    "  elif user_input.lower() == \"how are you\":\n",
    "    return \"I'm doing well, thank you!\"\n",
    "  elif user_input.lower() == \"bye\":\n",
    "    return \"Goodbye!\"\n",
    "  else:\n",
    "    return \"I don't understand that.\"\n",
    "\n",
    "while True:\n",
    "  user_input = input(\"You: \")\n",
    "  chatbot_response = simple_chatbot(user_input)\n",
    "  print(\"Chatbot:\", chatbot_response)\n",
    "  if user_input.lower() == \"bye\":\n",
    "    break"
   ]
  }
 ],
 "metadata": {
  "kernelspec": {
   "display_name": "Python 3 (ipykernel)",
   "language": "python",
   "name": "python3"
  },
  "language_info": {
   "codemirror_mode": {
    "name": "ipython",
    "version": 3
   },
   "file_extension": ".py",
   "mimetype": "text/x-python",
   "name": "python",
   "nbconvert_exporter": "python",
   "pygments_lexer": "ipython3",
   "version": "3.13.5"
  }
 },
 "nbformat": 4,
 "nbformat_minor": 5
}
